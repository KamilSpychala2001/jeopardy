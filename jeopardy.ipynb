{
 "cells": [
  {
   "cell_type": "code",
   "execution_count": 21,
   "metadata": {
    "collapsed": true
   },
   "outputs": [],
   "source": [
    "#10/23\n",
    "import pandas as pd\n",
    "import re\n",
    "import numpy as np\n",
    "jeopardy = pd.read_csv('./jeopardy.csv')"
   ]
  },
  {
   "cell_type": "code",
   "execution_count": 22,
   "outputs": [
    {
     "data": {
      "text/plain": "   Show Number    Air Date      Round                         Category  Value  \\\n0         4680  2004-12-31  Jeopardy!                          HISTORY   $200   \n1         4680  2004-12-31  Jeopardy!  ESPN's TOP 10 ALL-TIME ATHLETES   $200   \n2         4680  2004-12-31  Jeopardy!      EVERYBODY TALKS ABOUT IT...   $200   \n3         4680  2004-12-31  Jeopardy!                 THE COMPANY LINE   $200   \n4         4680  2004-12-31  Jeopardy!              EPITAPHS & TRIBUTES   $200   \n\n                                            Question      Answer  \n0  For the last 8 years of his life, Galileo was ...  Copernicus  \n1  No. 2: 1912 Olympian; football star at Carlisl...  Jim Thorpe  \n2  The city of Yuma in this state has a record av...     Arizona  \n3  In 1963, live on \"The Art Linkletter Show\", th...  McDonald's  \n4  Signer of the Dec. of Indep., framer of the Co...  John Adams  ",
      "text/html": "<div>\n<style scoped>\n    .dataframe tbody tr th:only-of-type {\n        vertical-align: middle;\n    }\n\n    .dataframe tbody tr th {\n        vertical-align: top;\n    }\n\n    .dataframe thead th {\n        text-align: right;\n    }\n</style>\n<table border=\"1\" class=\"dataframe\">\n  <thead>\n    <tr style=\"text-align: right;\">\n      <th></th>\n      <th>Show Number</th>\n      <th>Air Date</th>\n      <th>Round</th>\n      <th>Category</th>\n      <th>Value</th>\n      <th>Question</th>\n      <th>Answer</th>\n    </tr>\n  </thead>\n  <tbody>\n    <tr>\n      <th>0</th>\n      <td>4680</td>\n      <td>2004-12-31</td>\n      <td>Jeopardy!</td>\n      <td>HISTORY</td>\n      <td>$200</td>\n      <td>For the last 8 years of his life, Galileo was ...</td>\n      <td>Copernicus</td>\n    </tr>\n    <tr>\n      <th>1</th>\n      <td>4680</td>\n      <td>2004-12-31</td>\n      <td>Jeopardy!</td>\n      <td>ESPN's TOP 10 ALL-TIME ATHLETES</td>\n      <td>$200</td>\n      <td>No. 2: 1912 Olympian; football star at Carlisl...</td>\n      <td>Jim Thorpe</td>\n    </tr>\n    <tr>\n      <th>2</th>\n      <td>4680</td>\n      <td>2004-12-31</td>\n      <td>Jeopardy!</td>\n      <td>EVERYBODY TALKS ABOUT IT...</td>\n      <td>$200</td>\n      <td>The city of Yuma in this state has a record av...</td>\n      <td>Arizona</td>\n    </tr>\n    <tr>\n      <th>3</th>\n      <td>4680</td>\n      <td>2004-12-31</td>\n      <td>Jeopardy!</td>\n      <td>THE COMPANY LINE</td>\n      <td>$200</td>\n      <td>In 1963, live on \"The Art Linkletter Show\", th...</td>\n      <td>McDonald's</td>\n    </tr>\n    <tr>\n      <th>4</th>\n      <td>4680</td>\n      <td>2004-12-31</td>\n      <td>Jeopardy!</td>\n      <td>EPITAPHS &amp; TRIBUTES</td>\n      <td>$200</td>\n      <td>Signer of the Dec. of Indep., framer of the Co...</td>\n      <td>John Adams</td>\n    </tr>\n  </tbody>\n</table>\n</div>"
     },
     "execution_count": 22,
     "metadata": {},
     "output_type": "execute_result"
    }
   ],
   "source": [
    "jeopardy.head()"
   ],
   "metadata": {
    "collapsed": false,
    "pycharm": {
     "name": "#%%\n"
    }
   }
  },
  {
   "cell_type": "code",
   "execution_count": 23,
   "outputs": [],
   "source": [
    "jeopardy.rename(columns={' Air Date':'Air Date', ' Round':'Round', ' Category':'Category', ' Value':'Value', ' Question':'Question', ' Answer':'Answer'}, inplace=True)"
   ],
   "metadata": {
    "collapsed": false,
    "pycharm": {
     "name": "#%%\n"
    }
   }
  },
  {
   "cell_type": "code",
   "execution_count": 24,
   "outputs": [
    {
     "data": {
      "text/plain": "Index(['Show Number', 'Air Date', 'Round', 'Category', 'Value', 'Question',\n       'Answer'],\n      dtype='object')"
     },
     "execution_count": 24,
     "metadata": {},
     "output_type": "execute_result"
    }
   ],
   "source": [
    "jeopardy.columns"
   ],
   "metadata": {
    "collapsed": false,
    "pycharm": {
     "name": "#%%\n"
    }
   }
  },
  {
   "cell_type": "code",
   "execution_count": 25,
   "outputs": [
    {
     "data": {
      "text/plain": "49"
     },
     "execution_count": 25,
     "metadata": {},
     "output_type": "execute_result"
    }
   ],
   "source": [
    "def count_how_many_rows_with_words_question():\n",
    "    return jeopardy['Question'].str.contains(r'^(?=.*King)(?=.*England)').sum()\n",
    "count_how_many_rows_with_words_question()\n"
   ],
   "metadata": {
    "collapsed": false,
    "pycharm": {
     "name": "#%%\n"
    }
   }
  },
  {
   "cell_type": "code",
   "execution_count": 26,
   "outputs": [
    {
     "name": "stdout",
     "output_type": "stream",
     "text": [
      "        Show Number    Air Date             Round  \\\n",
      "4953           3003  1997-09-24  Double Jeopardy!   \n",
      "14912          2832  1996-12-17         Jeopardy!   \n",
      "21511          4650  2004-11-19         Jeopardy!   \n",
      "23810          4862  2005-11-01         Jeopardy!   \n",
      "27555          1799  1992-05-28  Double Jeopardy!   \n",
      "33294          5589  2008-12-18         Jeopardy!   \n",
      "41148          5925  2010-05-21  Double Jeopardy!   \n",
      "41357          2751  1996-07-15         Jeopardy!   \n",
      "43122          3937  2001-10-16  Double Jeopardy!   \n",
      "47814          4365  2003-07-18  Double Jeopardy!   \n",
      "49994          5499  2008-07-03         Jeopardy!   \n",
      "51115          3574  2000-03-02         Jeopardy!   \n",
      "51565          4264  2003-02-27  Double Jeopardy!   \n",
      "56600          3533  2000-01-05  Double Jeopardy!   \n",
      "57516          4299  2003-04-17  Double Jeopardy!   \n",
      "58949          6250  2011-11-18  Double Jeopardy!   \n",
      "71808          5270  2007-07-06         Jeopardy!   \n",
      "74235          2757  1996-09-03         Jeopardy!   \n",
      "77195          3656  2000-06-26         Jeopardy!   \n",
      "79457          4230  2003-01-10  Double Jeopardy!   \n",
      "80113          5827  2010-01-05         Jeopardy!   \n",
      "84639          1558  1991-05-15         Jeopardy!   \n",
      "86412          1837  1992-09-08  Double Jeopardy!   \n",
      "89710          5390  2008-02-01  Double Jeopardy!   \n",
      "111926         1331  1990-05-21         Jeopardy!   \n",
      "118809         1905  1992-12-11         Jeopardy!   \n",
      "123299         4656  2004-11-29         Jeopardy!   \n",
      "123671         5718  2009-06-17         Jeopardy!   \n",
      "125822         4042  2002-03-12  Double Jeopardy!   \n",
      "127484         1325  1990-05-11  Double Jeopardy!   \n",
      "127758         6021  2010-11-15         Jeopardy!   \n",
      "129106         4906  2006-01-02  Double Jeopardy!   \n",
      "130208         5222  2007-05-01         Jeopardy!   \n",
      "137818         3368  1999-04-07         Jeopardy!   \n",
      "143434         1882  1992-11-10  Double Jeopardy!   \n",
      "150880         4790  2005-06-03  Double Jeopardy!   \n",
      "165110         4255  2003-02-14         Jeopardy!   \n",
      "165197         6272  2011-12-20  Double Jeopardy!   \n",
      "170007         5455  2008-05-02  Double Jeopardy!   \n",
      "174055         2143  1993-12-22  Double Jeopardy!   \n",
      "175259         3055  1997-12-05  Double Jeopardy!   \n",
      "183462         3099  1998-02-05   Final Jeopardy!   \n",
      "186239         5339  2007-11-22  Double Jeopardy!   \n",
      "187651         5264  2007-06-28         Jeopardy!   \n",
      "191579         5453  2008-04-30         Jeopardy!   \n",
      "192265         6292  2012-01-17  Double Jeopardy!   \n",
      "192966         6175  2011-06-17  Double Jeopardy!   \n",
      "194516         6114  2011-03-24  Double Jeopardy!   \n",
      "200369         2937  1997-05-13         Jeopardy!   \n",
      "\n",
      "                            Category   Value  \\\n",
      "4953                    \"PH\"UN WORDS    $200   \n",
      "14912                  WORLD HISTORY    $100   \n",
      "21511                     THE \"O.C.\"   $1000   \n",
      "23810                  NAME THE YEAR    $400   \n",
      "27555               HISTORIC IN-LAWS    $600   \n",
      "33294            THE BAYEUX TAPESTRY    $600   \n",
      "41148                       TREATIES   $1600   \n",
      "41357                 HISTORIC NAMES    $400   \n",
      "43122                     OH, HENRY!    $400   \n",
      "47814                        POTIONS   $2000   \n",
      "49994                    REIGN DROPS   $1000   \n",
      "51115             ALL THINGS BRITISH    $200   \n",
      "51565             MUSIC APPRECIATION    $800   \n",
      "56600                 FRENCH HISTORY    $600   \n",
      "57516               THE \"UN\"CATEGORY   $2000   \n",
      "58949            ASSUME THE POSITION   $2000   \n",
      "71808        WHERE THERE'S A WILLIAM   $1000   \n",
      "74235                  WORLD HISTORY    $200   \n",
      "77195                        JUNE 26    $400   \n",
      "79457                     CONQUERORS    $800   \n",
      "80113                      \"M\" & \"M\"   $1000   \n",
      "84639              FILMS OF THE '90S    $200   \n",
      "86412                        ROYALTY    $400   \n",
      "89710                 \"CAN\"NED WORDS   $1600   \n",
      "111926                FILE UNDER \"M\"  $1,000   \n",
      "118809                KINGS & QUEENS    $300   \n",
      "123299                        CHAIRS    $400   \n",
      "123671          A YEAR ENDING IN '09   $1000   \n",
      "125822              PAINT IT \"BLACK\"  $5,000   \n",
      "127484               MEDIEVAL PEOPLE    $600   \n",
      "127758                   STATE FACTS    $600   \n",
      "129106            HISTORIC NICKNAMES   $2000   \n",
      "130208                       ROYALTY    $600   \n",
      "137818             PEOPLE IN HISTORY    $400   \n",
      "143434                           ART    $800   \n",
      "150880  20th CENTURY BRITISH HISTORY   $1200   \n",
      "165110                     HIGH COUP   $1000   \n",
      "165197           TOUCHED BY AN ANGEL   $2000   \n",
      "170007               THE SWEET 1600s   $1600   \n",
      "174055               HISTORIC PEOPLE    $200   \n",
      "175259                     THE 1930s    $400   \n",
      "183462                       ROYALTY    None   \n",
      "186239              EUROPEAN HISTORY    $800   \n",
      "187651   CAPITALS OF THE WEST INDIES    $600   \n",
      "191579                       BATTLES    $800   \n",
      "192265    NORWAY'S CULTURE & HISTORY   $1600   \n",
      "192966                 HERO SANDWICH    $800   \n",
      "194516           THE YUCKS STOP HERE   $1600   \n",
      "200369               BRITISH HISTORY    $200   \n",
      "\n",
      "                                                 Question  \\\n",
      "4953    Both England's King George V & FDR put their s...   \n",
      "14912   This country's King Louis IV was nicknamed \"Lo...   \n",
      "21511   this man and his son ruled England following t...   \n",
      "23810   William the Conqueror was crowned King of Engl...   \n",
      "27555   This member of the Medici family was the mothe...   \n",
      "33294   (Sarah of the Clue Crew delivers the clue from...   \n",
      "41148   This French king recognized William of Orange ...   \n",
      "41357   England's King Henry VIII had 3 wives named Ca...   \n",
      "43122              The father of England's King Edward VI   \n",
      "47814   This steak sauce was created for King George I...   \n",
      "49994   Elizabeth I's half-brother, he reigned before ...   \n",
      "51115   (<a href=\"http://www.j-archive.com/media/2000-...   \n",
      "51565   He wrote several anthems, including \"The King ...   \n",
      "56600   This city known for its 24-hour auto race was ...   \n",
      "57516   Famous (& rather insulting) adjective for Engl...   \n",
      "58949   He became King of England in 1399 after forcin...   \n",
      "71808   Number of the William who was England's \"Sailo...   \n",
      "74235   Barons & churchmen drew up this 1215 document ...   \n",
      "77195   He became King of England on June 26, 1483; ju...   \n",
      "79457   On Christmas Day 1066, he was crowned King of ...   \n",
      "80113   England's King Charles II was known by this \"j...   \n",
      "84639   He went from second banana on \"Roseanne\" to to...   \n",
      "86412   This country's King Olaf V was born in England...   \n",
      "89710   This 11th Century King of England also ruled D...   \n",
      "111926  It begins \"John, by the grace of God, King of ...   \n",
      "118809  In French this King of England is called Guill...   \n",
      "123299  If you want to be crowned King of England, thi...   \n",
      "123671                     King Henry VII of England dies   \n",
      "125822  Famous nickname of the eldest son of England's...   \n",
      "127484  Ethelred the Unready managed to lose most of E...   \n",
      "127758  This state was named for the King of England w...   \n",
      "129106  King Edward I of England, who fought William W...   \n",
      "130208  This \"Sun King\" sniffed, \"England is a little ...   \n",
      "137818  The last King William to rule England had this...   \n",
      "143434  This Flemish artist painted a unique triple po...   \n",
      "150880  During Stanley Baldwin's term as P.M., this Ki...   \n",
      "165110  The 1st commoner to rule England, he became lo...   \n",
      "165197  The \"Angel of Hadley\" is said to have saved a ...   \n",
      "170007  In the 1697 Treaty of Rijswijk, the French rec...   \n",
      "174055  This conqueror was crowned King of England on ...   \n",
      "175259  His short reign as King of England fell in in ...   \n",
      "183462  A capital in the West Indies is named for this...   \n",
      "186239  He was King of England from 1189 to 1199 but s...   \n",
      "187651  This Bahamian capital took its name from the f...   \n",
      "191579  England's King Harold II lost the all-importan...   \n",
      "192265  (<a href=\"http://www.j-archive.com/media/2012-...   \n",
      "192966                 England's King _____ _____ R. Luce   \n",
      "194516  The \"Monty Python\" member who played King Arth...   \n",
      "200369  8th C. King Offa built a 170-mile north-south ...   \n",
      "\n",
      "                              Answer  \n",
      "4953    Philately (stamp collecting)  \n",
      "14912                         France  \n",
      "21511                Oliver Cromwell  \n",
      "23810                           1066  \n",
      "27555                Marie de Medici  \n",
      "33294   the Archbishop of Canterbury  \n",
      "41148                      Louis XIV  \n",
      "41357                 Catherine Parr  \n",
      "43122                     Henry VIII  \n",
      "47814                             A1  \n",
      "49994                      Edward VI  \n",
      "51115                    Magna Carta  \n",
      "51565         George Frideric Handel  \n",
      "56600                        Le Mans  \n",
      "57516                  \"the Unready\"  \n",
      "58949                       Henry IV  \n",
      "71808                             IV  \n",
      "74235                The Magna Carta  \n",
      "77195                    Richard III  \n",
      "79457          William the Conqueror  \n",
      "80113            \"the Merry Monarch\"  \n",
      "84639                   John Goodman  \n",
      "86412                         Norway  \n",
      "89710                         Canute  \n",
      "111926                   Magna Carta  \n",
      "118809         William the Conqueror  \n",
      "123299            the Stone of Scone  \n",
      "123671                          1509  \n",
      "125822              the Black Prince  \n",
      "127484                       Denmark  \n",
      "127758                       Georgia  \n",
      "129106                  \"Longshanks\"  \n",
      "130208                     Louis XIV  \n",
      "137818                            IV  \n",
      "143434              Anthony van Dyck  \n",
      "150880              King Edward VIII  \n",
      "165110               Oliver Cromwell  \n",
      "165197                   King Philip  \n",
      "170007             William of Orange  \n",
      "174055                       William  \n",
      "175259              King Edward VIII  \n",
      "183462                        Nassau  \n",
      "186239         Richard the Lionheart  \n",
      "187651                        Nassau  \n",
      "191579                          1066  \n",
      "192265                    Edward VII  \n",
      "192966                    John Henry  \n",
      "194516                Graham Chapman  \n",
      "200369                         Wales  \n"
     ]
    },
    {
     "data": {
      "text/plain": "49"
     },
     "execution_count": 26,
     "metadata": {},
     "output_type": "execute_result"
    }
   ],
   "source": [
    "df_with_king_and_england = jeopardy[jeopardy['Question'].str.contains(r'^(?=.*King)(?=.*England)')]\n",
    "print(df_with_king_and_england)\n",
    "df_with_king_and_england.Question.count()"
   ],
   "metadata": {
    "collapsed": false,
    "pycharm": {
     "name": "#%%\n"
    }
   }
  },
  {
   "cell_type": "code",
   "execution_count": 27,
   "outputs": [
    {
     "name": "stdout",
     "output_type": "stream",
     "text": [
      "4953      Both England's King George V & FDR put their s...\n",
      "14912     This country's King Louis IV was nicknamed \"Lo...\n",
      "21511     this man and his son ruled England following t...\n",
      "23810     William the Conqueror was crowned King of Engl...\n",
      "27555     This member of the Medici family was the mothe...\n",
      "33294     (Sarah of the Clue Crew delivers the clue from...\n",
      "41148     This French king recognized William of Orange ...\n",
      "41357     England's King Henry VIII had 3 wives named Ca...\n",
      "43122                The father of England's King Edward VI\n",
      "47814     This steak sauce was created for King George I...\n",
      "49994     Elizabeth I's half-brother, he reigned before ...\n",
      "51115     (<a href=\"http://www.j-archive.com/media/2000-...\n",
      "51565     He wrote several anthems, including \"The King ...\n",
      "56600     This city known for its 24-hour auto race was ...\n",
      "57516     Famous (& rather insulting) adjective for Engl...\n",
      "58949     He became King of England in 1399 after forcin...\n",
      "71808     Number of the William who was England's \"Sailo...\n",
      "74235     Barons & churchmen drew up this 1215 document ...\n",
      "77195     He became King of England on June 26, 1483; ju...\n",
      "79457     On Christmas Day 1066, he was crowned King of ...\n",
      "80113     England's King Charles II was known by this \"j...\n",
      "84639     He went from second banana on \"Roseanne\" to to...\n",
      "86412     This country's King Olaf V was born in England...\n",
      "89710     This 11th Century King of England also ruled D...\n",
      "111926    It begins \"John, by the grace of God, King of ...\n",
      "118809    In French this King of England is called Guill...\n",
      "123299    If you want to be crowned King of England, thi...\n",
      "123671                       King Henry VII of England dies\n",
      "125822    Famous nickname of the eldest son of England's...\n",
      "127484    Ethelred the Unready managed to lose most of E...\n",
      "127758    This state was named for the King of England w...\n",
      "129106    King Edward I of England, who fought William W...\n",
      "130208    This \"Sun King\" sniffed, \"England is a little ...\n",
      "137818    The last King William to rule England had this...\n",
      "143434    This Flemish artist painted a unique triple po...\n",
      "150880    During Stanley Baldwin's term as P.M., this Ki...\n",
      "165110    The 1st commoner to rule England, he became lo...\n",
      "165197    The \"Angel of Hadley\" is said to have saved a ...\n",
      "170007    In the 1697 Treaty of Rijswijk, the French rec...\n",
      "174055    This conqueror was crowned King of England on ...\n",
      "175259    His short reign as King of England fell in in ...\n",
      "183462    A capital in the West Indies is named for this...\n",
      "186239    He was King of England from 1189 to 1199 but s...\n",
      "187651    This Bahamian capital took its name from the f...\n",
      "191579    England's King Harold II lost the all-importan...\n",
      "192265    (<a href=\"http://www.j-archive.com/media/2012-...\n",
      "192966                   England's King _____ _____ R. Luce\n",
      "194516    The \"Monty Python\" member who played King Arth...\n",
      "200369    8th C. King Offa built a 170-mile north-south ...\n",
      "dtype: object\n"
     ]
    },
    {
     "data": {
      "text/plain": "49"
     },
     "execution_count": 27,
     "metadata": {},
     "output_type": "execute_result"
    }
   ],
   "source": [
    "# method to get all the question using apply\n",
    "def check_words_question(row):\n",
    "    text = str(row['Question'])\n",
    "    re.search(r'^(?=.*King)(?=.*England)', text)\n",
    "    if re.search(r'^(?=.*King)(?=.*England)', text):\n",
    "        return text\n",
    "\n",
    "df_with_king_and_england = jeopardy.apply(check_words_question, axis=1)\n",
    "\n",
    "df_with_king_and_england = df_with_king_and_england.dropna()\n",
    "print(df_with_king_and_england)\n",
    "df_with_king_and_england.count()"
   ],
   "metadata": {
    "collapsed": false,
    "pycharm": {
     "name": "#%%\n"
    }
   }
  },
  {
   "cell_type": "code",
   "execution_count": 28,
   "outputs": [
    {
     "data": {
      "text/plain": "array(['$200', '$400', '$600', '$800', '$2,000', '$1000', '$1200',\n       '$1600', '$2000', '$3,200', 'None', '$5,000', '$100', '$300',\n       '$500', '$1,000', '$1,500', '$1,200', '$4,800', '$1,800', '$1,100',\n       '$2,200', '$3,400', '$3,000', '$4,000', '$1,600', '$6,800',\n       '$1,900', '$3,100', '$700', '$1,400', '$2,800', '$8,000', '$6,000',\n       '$2,400', '$12,000', '$3,800', '$2,500', '$6,200', '$10,000',\n       '$7,000', '$1,492', '$7,400', '$1,300', '$7,200', '$2,600',\n       '$3,300', '$5,400', '$4,500', '$2,100', '$900', '$3,600', '$2,127',\n       '$367', '$4,400', '$3,500', '$2,900', '$3,900', '$4,100', '$4,600',\n       '$10,800', '$2,300', '$5,600', '$1,111', '$8,200', '$5,800',\n       '$750', '$7,500', '$1,700', '$9,000', '$6,100', '$1,020', '$4,700',\n       '$2,021', '$5,200', '$3,389', '$4,200', '$5', '$2,001', '$1,263',\n       '$4,637', '$3,201', '$6,600', '$3,700', '$2,990', '$5,500',\n       '$14,000', '$2,700', '$6,400', '$350', '$8,600', '$6,300', '$250',\n       '$3,989', '$8,917', '$9,500', '$1,246', '$6,435', '$8,800',\n       '$2,222', '$2,746', '$10,400', '$7,600', '$6,700', '$5,100',\n       '$13,200', '$4,300', '$1,407', '$12,400', '$5,401', '$7,800',\n       '$1,183', '$1,203', '$13,000', '$11,600', '$14,200', '$1,809',\n       '$8,400', '$8,700', '$11,000', '$5,201', '$1,801', '$3,499',\n       '$5,700', '$601', '$4,008', '$50', '$2,344', '$2,811', '$18,000',\n       '$1,777', '$3,599', '$9,800', '$796', '$3,150', '$20', '$1,810',\n       '$22', '$9,200', '$1,512', '$8,500', '$585', '$1,534', '$13,800',\n       '$5,001', '$4,238', '$16,400', '$1,347', '$2547', '$11,200'],\n      dtype=object)"
     },
     "execution_count": 28,
     "metadata": {},
     "output_type": "execute_result"
    }
   ],
   "source": [
    "jeopardy.Value.unique()"
   ],
   "metadata": {
    "collapsed": false,
    "pycharm": {
     "name": "#%%\n"
    }
   }
  },
  {
   "cell_type": "code",
   "execution_count": 29,
   "outputs": [
    {
     "data": {
      "text/plain": "array([2.000e+02, 4.000e+02, 6.000e+02, 8.000e+02, 2.000e+03, 1.000e+03,\n       1.200e+03, 1.600e+03, 3.200e+03, 0.000e+00, 5.000e+03, 1.000e+02,\n       3.000e+02, 5.000e+02, 1.500e+03, 4.800e+03, 1.800e+03, 1.100e+03,\n       2.200e+03, 3.400e+03, 3.000e+03, 4.000e+03, 6.800e+03, 1.900e+03,\n       3.100e+03, 7.000e+02, 1.400e+03, 2.800e+03, 8.000e+03, 6.000e+03,\n       2.400e+03, 1.200e+04, 3.800e+03, 2.500e+03, 6.200e+03, 1.000e+04,\n       7.000e+03, 1.492e+03, 7.400e+03, 1.300e+03, 7.200e+03, 2.600e+03,\n       3.300e+03, 5.400e+03, 4.500e+03, 2.100e+03, 9.000e+02, 3.600e+03,\n       2.127e+03, 3.670e+02, 4.400e+03, 3.500e+03, 2.900e+03, 3.900e+03,\n       4.100e+03, 4.600e+03, 1.080e+04, 2.300e+03, 5.600e+03, 1.111e+03,\n       8.200e+03, 5.800e+03, 7.500e+02, 7.500e+03, 1.700e+03, 9.000e+03,\n       6.100e+03, 1.020e+03, 4.700e+03, 2.021e+03, 5.200e+03, 3.389e+03,\n       4.200e+03, 5.000e+00, 2.001e+03, 1.263e+03, 4.637e+03, 3.201e+03,\n       6.600e+03, 3.700e+03, 2.990e+03, 5.500e+03, 1.400e+04, 2.700e+03,\n       6.400e+03, 3.500e+02, 8.600e+03, 6.300e+03, 2.500e+02, 3.989e+03,\n       8.917e+03, 9.500e+03, 1.246e+03, 6.435e+03, 8.800e+03, 2.222e+03,\n       2.746e+03, 1.040e+04, 7.600e+03, 6.700e+03, 5.100e+03, 1.320e+04,\n       4.300e+03, 1.407e+03, 1.240e+04, 5.401e+03, 7.800e+03, 1.183e+03,\n       1.203e+03, 1.300e+04, 1.160e+04, 1.420e+04, 1.809e+03, 8.400e+03,\n       8.700e+03, 1.100e+04, 5.201e+03, 1.801e+03, 3.499e+03, 5.700e+03,\n       6.010e+02, 4.008e+03, 5.000e+01, 2.344e+03, 2.811e+03, 1.800e+04,\n       1.777e+03, 3.599e+03, 9.800e+03, 7.960e+02, 3.150e+03, 2.000e+01,\n       1.810e+03, 2.200e+01, 9.200e+03, 1.512e+03, 8.500e+03, 5.850e+02,\n       1.534e+03, 1.380e+04, 5.001e+03, 4.238e+03, 1.640e+04, 1.347e+03,\n       2.547e+03, 1.120e+04])"
     },
     "execution_count": 29,
     "metadata": {},
     "output_type": "execute_result"
    }
   ],
   "source": [
    "# replacing 'one' because of [1:] and 'None'\n",
    "jeopardy['Value_int'] = jeopardy.apply(lambda row: float(row.Value[1:].replace('one', '0').replace(',','')), axis=1)\n",
    "jeopardy.Value_int.unique()"
   ],
   "metadata": {
    "collapsed": false,
    "pycharm": {
     "name": "#%%\n"
    }
   }
  },
  {
   "cell_type": "code",
   "execution_count": 30,
   "outputs": [
    {
     "data": {
      "text/plain": "773.4413965087282"
     },
     "execution_count": 30,
     "metadata": {},
     "output_type": "execute_result"
    }
   ],
   "source": [
    "def search_for_question_with_word(word):\n",
    "    regex = r\".*\" + re.escape(word) + r\".*\" # escape to backslash special characters\n",
    "    df_with_word = jeopardy[jeopardy['Question'].str.contains(regex)]\n",
    "    return df_with_word.Value_int.mean()\n",
    "\n",
    "\n",
    "mean_with_king = search_for_question_with_word('King')\n",
    "mean_with_king"
   ],
   "metadata": {
    "collapsed": false,
    "pycharm": {
     "name": "#%%\n"
    }
   }
  },
  {
   "cell_type": "code",
   "execution_count": 31,
   "outputs": [
    {
     "data": {
      "text/plain": "773.4413965087282"
     },
     "execution_count": 31,
     "metadata": {},
     "output_type": "execute_result"
    }
   ],
   "source": [
    "df_with_king_mean_value = jeopardy[jeopardy['Question'].str.contains(r'.*King.*')]\n",
    "df_with_king_mean_value.Value_int.mean()"
   ],
   "metadata": {
    "collapsed": false,
    "pycharm": {
     "name": "#%%\n"
    }
   }
  },
  {
   "cell_type": "code",
   "execution_count": 32,
   "outputs": [
    {
     "data": {
      "text/plain": "1604"
     },
     "execution_count": 32,
     "metadata": {},
     "output_type": "execute_result"
    }
   ],
   "source": [
    "df_with_king_mean_value.Value_int.count()"
   ],
   "metadata": {
    "collapsed": false,
    "pycharm": {
     "name": "#%%\n"
    }
   }
  },
  {
   "cell_type": "code",
   "execution_count": 33,
   "outputs": [
    {
     "data": {
      "text/plain": "1240600.0"
     },
     "execution_count": 33,
     "metadata": {},
     "output_type": "execute_result"
    }
   ],
   "source": [
    "df_with_king_mean_value.Value_int.sum()"
   ],
   "metadata": {
    "collapsed": false,
    "pycharm": {
     "name": "#%%\n"
    }
   }
  },
  {
   "cell_type": "code",
   "execution_count": 34,
   "outputs": [
    {
     "name": "stdout",
     "output_type": "stream",
     "text": [
      "More than 1 value\n",
      "I Kings uses \"slept with his fathers\" as a euphemism for this\n",
      "800.0\n",
      "800.0\n",
      "More than 1 value\n",
      "The number of times the words \"apple\" & \"snake\" appear in the King James Version of Genesis\n",
      "400.0\n",
      "300.0\n",
      "More than 1 value\n",
      "King Carl XVI Gustaf\n",
      "400.0\n",
      "800.0\n",
      "More than 1 value\n",
      "I Kings uses \"slept with his fathers\" as a euphemism for this\n",
      "800.0\n",
      "800.0\n",
      "More than 1 value\n",
      "It's the last name of father & son novelists Kingsley & Martin\n",
      "1000.0\n",
      "1200.0\n",
      "More than 1 value\n",
      "In the King James Version of John 3:16, \"God so loved the world, that he gave\" this\n",
      "400.0\n",
      "600.0\n",
      "More than 1 value\n",
      "In \"King John\", King John's first words to her are \"Silence, good mother; hear the embassy\"\n",
      "1600.0\n",
      "1000.0\n",
      "More than 1 value\n",
      "In the King James Version of John 3:16, \"God so loved the world, that he gave\" this\n",
      "400.0\n",
      "600.0\n",
      "More than 1 value\n",
      "In \"King John\", King John's first words to her are \"Silence, good mother; hear the embassy\"\n",
      "1600.0\n",
      "1000.0\n",
      "More than 1 value\n",
      "King Carl XVI Gustaf\n",
      "400.0\n",
      "800.0\n",
      "More than 1 value\n",
      "The number of times the words \"apple\" & \"snake\" appear in the King James Version of Genesis\n",
      "400.0\n",
      "300.0\n",
      "More than 1 value\n",
      "It's the last name of father & son novelists Kingsley & Martin\n",
      "1000.0\n",
      "1200.0\n",
      "{400.0: 304, 800.0: 223, 200.0: 210, 1000.0: 182, 600.0: 172, 2000.0: 103, 1600.0: 98, 1200.0: 77, 500.0: 66, 100.0: 54, 300.0: 49, 0.0: 31, 1500.0: 6, 1400.0: 4, 4000.0: 3, 3000.0: 3, 2500.0: 3, 900.0: 2, 5000.0: 2, 1100.0: 1, 8200.0: 1, 2200.0: 1, 3500.0: 1, 1900.0: 1, 700.0: 1, 9000.0: 1, 4700.0: 1, 2400.0: 1, 4200.0: 1, 7000.0: 1, 5200.0: 1}\n",
      "Total sum: 1240500.0\n",
      "Total count: 1604\n",
      "773.3790523690773\n"
     ]
    }
   ],
   "source": [
    "# incorrect result, because of\n",
    "# value_int = jeopardy.loc[(jeopardy['Question'] == question),'Value_int'].values\n",
    "# when the same question appears more than 1 time with different values\n",
    "\n",
    "def calculate_average_value_for_word(word):\n",
    "    total_sum = 0\n",
    "    total_count = 0\n",
    "\n",
    "    unique_elements = {}\n",
    "\n",
    "    list_questions = []\n",
    "\n",
    "    for question in jeopardy['Question']:\n",
    "        if word in question:\n",
    "            list_questions.append(question)\n",
    "            value_int = jeopardy.loc[(jeopardy['Question'] == question),'Value_int'].values\n",
    "            #print(value_int)\n",
    "            #print(len(value_int))\n",
    "\n",
    "            if len(value_int) > 1:\n",
    "                print(\"More than 1 value\")\n",
    "                print(question)\n",
    "                print(value_int[0])\n",
    "                print(value_int[1])\n",
    "                #break\n",
    "            if value_int[0] not in unique_elements.keys():\n",
    "                unique_elements[value_int[0]] = 1\n",
    "            else:\n",
    "                unique_elements[value_int[0]] +=1\n",
    "            total_sum += value_int[0]\n",
    "            total_count += 1\n",
    "\n",
    "    unique_elements_sorted = dict(sorted(unique_elements.items(), key=lambda item: item[1], reverse=True))\n",
    "    print(unique_elements_sorted)\n",
    "    #print(list_questions)\n",
    "    if total_count == 0:\n",
    "        return 0, list_questions\n",
    "    else:\n",
    "        print(\"Total sum: \" + str(total_sum))\n",
    "        print(\"Total count: \" + str(total_count))\n",
    "\n",
    "        return total_sum / total_count, list_questions\n",
    "\n",
    "mean, list_of_questions_with_king_manual_approach =  calculate_average_value_for_word('King')\n",
    "print(mean)"
   ],
   "metadata": {
    "collapsed": false,
    "pycharm": {
     "name": "#%%\n"
    }
   }
  },
  {
   "cell_type": "code",
   "execution_count": 40,
   "outputs": [
    {
     "data": {
      "text/plain": "400.0     301\n800.0     224\n200.0     210\n1000.0    182\n600.0     173\n2000.0    103\n1600.0     97\n1200.0     78\n500.0      66\n100.0      54\n300.0      50\n0.0        31\n1500.0      6\n1400.0      4\n3000.0      3\n2500.0      3\n4000.0      3\n5000.0      2\n900.0       2\n7000.0      1\n4200.0      1\n2400.0      1\n4700.0      1\n2200.0      1\n9000.0      1\n700.0       1\n1900.0      1\n3500.0      1\n1100.0      1\n8200.0      1\n5200.0      1\nName: Value_int, dtype: int64"
     },
     "execution_count": 40,
     "metadata": {},
     "output_type": "execute_result"
    }
   ],
   "source": [
    "df_with_king_mean_value.Value_int.value_counts()"
   ],
   "metadata": {
    "collapsed": false,
    "pycharm": {
     "name": "#%%\n"
    }
   }
  },
  {
   "cell_type": "code",
   "execution_count": 35,
   "outputs": [
    {
     "data": {
      "text/plain": "                                               Question\n0        It's the largest kingdom in the United Kingdom\n1     Between 1842 & 1885, he repeatedly revised his...\n2     Robin Quivers is the radio consort of this sel...\n3     Examples of this TV format include \"Leave It t...\n4     Central Park has a statue of King Wladyslaw II...\n...                                                 ...\n1599  You have to stand up to ride Shockwave, this t...\n1600  Stephen King's 1980 overview of the horror gen...\n1601  Upon signing his name in 1776 he said, \"There,...\n1602  The first one of these tombs was built about 2...\n1603  A Hoffmann tale title lost the words \"And The ...\n\n[1604 rows x 1 columns]",
      "text/html": "<div>\n<style scoped>\n    .dataframe tbody tr th:only-of-type {\n        vertical-align: middle;\n    }\n\n    .dataframe tbody tr th {\n        vertical-align: top;\n    }\n\n    .dataframe thead th {\n        text-align: right;\n    }\n</style>\n<table border=\"1\" class=\"dataframe\">\n  <thead>\n    <tr style=\"text-align: right;\">\n      <th></th>\n      <th>Question</th>\n    </tr>\n  </thead>\n  <tbody>\n    <tr>\n      <th>0</th>\n      <td>It's the largest kingdom in the United Kingdom</td>\n    </tr>\n    <tr>\n      <th>1</th>\n      <td>Between 1842 &amp; 1885, he repeatedly revised his...</td>\n    </tr>\n    <tr>\n      <th>2</th>\n      <td>Robin Quivers is the radio consort of this sel...</td>\n    </tr>\n    <tr>\n      <th>3</th>\n      <td>Examples of this TV format include \"Leave It t...</td>\n    </tr>\n    <tr>\n      <th>4</th>\n      <td>Central Park has a statue of King Wladyslaw II...</td>\n    </tr>\n    <tr>\n      <th>...</th>\n      <td>...</td>\n    </tr>\n    <tr>\n      <th>1599</th>\n      <td>You have to stand up to ride Shockwave, this t...</td>\n    </tr>\n    <tr>\n      <th>1600</th>\n      <td>Stephen King's 1980 overview of the horror gen...</td>\n    </tr>\n    <tr>\n      <th>1601</th>\n      <td>Upon signing his name in 1776 he said, \"There,...</td>\n    </tr>\n    <tr>\n      <th>1602</th>\n      <td>The first one of these tombs was built about 2...</td>\n    </tr>\n    <tr>\n      <th>1603</th>\n      <td>A Hoffmann tale title lost the words \"And The ...</td>\n    </tr>\n  </tbody>\n</table>\n<p>1604 rows × 1 columns</p>\n</div>"
     },
     "execution_count": 35,
     "metadata": {},
     "output_type": "execute_result"
    }
   ],
   "source": [
    "df_of_questions_with_king_manual_approach = pd.DataFrame(list_of_questions_with_king_manual_approach, columns=['Question'])\n",
    "df_of_questions_with_king_manual_approach"
   ],
   "metadata": {
    "collapsed": false,
    "pycharm": {
     "name": "#%%\n"
    }
   }
  },
  {
   "cell_type": "code",
   "execution_count": 36,
   "outputs": [
    {
     "data": {
      "text/plain": "                                               Question\n0        It's the largest kingdom in the United Kingdom\n1     Between 1842 & 1885, he repeatedly revised his...\n2     Robin Quivers is the radio consort of this sel...\n3     Examples of this TV format include \"Leave It t...\n4     Central Park has a statue of King Wladyslaw II...\n...                                                 ...\n1599  You have to stand up to ride Shockwave, this t...\n1600  Stephen King's 1980 overview of the horror gen...\n1601  Upon signing his name in 1776 he said, \"There,...\n1602  The first one of these tombs was built about 2...\n1603  A Hoffmann tale title lost the words \"And The ...\n\n[1604 rows x 1 columns]",
      "text/html": "<div>\n<style scoped>\n    .dataframe tbody tr th:only-of-type {\n        vertical-align: middle;\n    }\n\n    .dataframe tbody tr th {\n        vertical-align: top;\n    }\n\n    .dataframe thead th {\n        text-align: right;\n    }\n</style>\n<table border=\"1\" class=\"dataframe\">\n  <thead>\n    <tr style=\"text-align: right;\">\n      <th></th>\n      <th>Question</th>\n    </tr>\n  </thead>\n  <tbody>\n    <tr>\n      <th>0</th>\n      <td>It's the largest kingdom in the United Kingdom</td>\n    </tr>\n    <tr>\n      <th>1</th>\n      <td>Between 1842 &amp; 1885, he repeatedly revised his...</td>\n    </tr>\n    <tr>\n      <th>2</th>\n      <td>Robin Quivers is the radio consort of this sel...</td>\n    </tr>\n    <tr>\n      <th>3</th>\n      <td>Examples of this TV format include \"Leave It t...</td>\n    </tr>\n    <tr>\n      <th>4</th>\n      <td>Central Park has a statue of King Wladyslaw II...</td>\n    </tr>\n    <tr>\n      <th>...</th>\n      <td>...</td>\n    </tr>\n    <tr>\n      <th>1599</th>\n      <td>You have to stand up to ride Shockwave, this t...</td>\n    </tr>\n    <tr>\n      <th>1600</th>\n      <td>Stephen King's 1980 overview of the horror gen...</td>\n    </tr>\n    <tr>\n      <th>1601</th>\n      <td>Upon signing his name in 1776 he said, \"There,...</td>\n    </tr>\n    <tr>\n      <th>1602</th>\n      <td>The first one of these tombs was built about 2...</td>\n    </tr>\n    <tr>\n      <th>1603</th>\n      <td>A Hoffmann tale title lost the words \"And The ...</td>\n    </tr>\n  </tbody>\n</table>\n<p>1604 rows × 1 columns</p>\n</div>"
     },
     "execution_count": 36,
     "metadata": {},
     "output_type": "execute_result"
    }
   ],
   "source": [
    "#df_with_king_mean_value.Question\n",
    "df_of_questions_with_king_auto_approach = df_with_king_mean_value.Question.to_frame().reset_index(drop=True)\n",
    "df_of_questions_with_king_auto_approach"
   ],
   "metadata": {
    "collapsed": false,
    "pycharm": {
     "name": "#%%\n"
    }
   }
  },
  {
   "cell_type": "code",
   "execution_count": 37,
   "outputs": [
    {
     "data": {
      "text/plain": "1604"
     },
     "execution_count": 37,
     "metadata": {},
     "output_type": "execute_result"
    }
   ],
   "source": [
    "df_of_questions_with_king_manual_approach.Question.count()"
   ],
   "metadata": {
    "collapsed": false,
    "pycharm": {
     "name": "#%%\n"
    }
   }
  },
  {
   "cell_type": "code",
   "execution_count": 38,
   "outputs": [
    {
     "data": {
      "text/plain": "1604"
     },
     "execution_count": 38,
     "metadata": {},
     "output_type": "execute_result"
    }
   ],
   "source": [
    "df_of_questions_with_king_auto_approach.Question.count()"
   ],
   "metadata": {
    "collapsed": false,
    "pycharm": {
     "name": "#%%\n"
    }
   }
  },
  {
   "cell_type": "code",
   "execution_count": 39,
   "outputs": [
    {
     "data": {
      "text/plain": "Empty DataFrame\nColumns: []\nIndex: []",
      "text/html": "<div>\n<style scoped>\n    .dataframe tbody tr th:only-of-type {\n        vertical-align: middle;\n    }\n\n    .dataframe tbody tr th {\n        vertical-align: top;\n    }\n\n    .dataframe thead tr th {\n        text-align: left;\n    }\n</style>\n<table border=\"1\" class=\"dataframe\">\n  <thead>\n  </thead>\n  <tbody>\n  </tbody>\n</table>\n</div>"
     },
     "execution_count": 39,
     "metadata": {},
     "output_type": "execute_result"
    }
   ],
   "source": [
    "#diff = df_of_questions_with_king_auto_approach.compare(df_of_questions_with_king_manual_approach, keep_equal=True, keep_shape = True)\n",
    "diff = df_of_questions_with_king_auto_approach.compare(df_of_questions_with_king_manual_approach)\n",
    "diff"
   ],
   "metadata": {
    "collapsed": false,
    "pycharm": {
     "name": "#%%\n"
    }
   }
  },
  {
   "cell_type": "code",
   "execution_count": 16,
   "outputs": [
    {
     "data": {
      "text/plain": "[audio clue]                                                                                               17\n[video clue]                                                                                               14\n(audio clue)                                                                                                5\n[filler]                                                                                                    5\nHainan                                                                                                      4\n                                                                                                           ..\nIn a Kipling ballad \"East is east, and west is west, and never\" these 4 words                               1\nThe Czechs call this 720-mile-long river the Labe                                                           1\nYou can still buy this character's cereal online                                                            1\nThe Black Knight plush figure from this British comedy film has detachable limbs                            1\nA silent movie title includes the last name of this 18th c. statesman & favorite of Catherine the Great     1\nName: Question, Length: 216124, dtype: int64"
     },
     "execution_count": 16,
     "metadata": {},
     "output_type": "execute_result"
    }
   ],
   "source": [
    "jeopardy['Question'].value_counts()"
   ],
   "metadata": {
    "collapsed": false,
    "pycharm": {
     "name": "#%%\n"
    }
   }
  },
  {
   "cell_type": "code",
   "execution_count": 17,
   "outputs": [
    {
     "data": {
      "text/plain": "        Show Number    Air Date             Round  \\\n30116          4802  2005-06-21  Double Jeopardy!   \n144460         3949  2001-11-01         Jeopardy!   \n162552         5765  2009-10-09         Jeopardy!   \n203881         5131  2006-12-25  Double Jeopardy!   \n\n                            Category  Value Question  Answer  Value_int  \n30116   VOLCANO, ISLAND OR PENINSULA  $1200   Hainan  island     1200.0  \n144460         THE NEAREST CONTINENT   $200   Hainan    Asia      200.0  \n162552    COUNTRIES' LARGEST ISLANDS   $800   Hainan   China      800.0  \n203881               IT'S OUR ISLAND   $400   Hainan   China      400.0  ",
      "text/html": "<div>\n<style scoped>\n    .dataframe tbody tr th:only-of-type {\n        vertical-align: middle;\n    }\n\n    .dataframe tbody tr th {\n        vertical-align: top;\n    }\n\n    .dataframe thead th {\n        text-align: right;\n    }\n</style>\n<table border=\"1\" class=\"dataframe\">\n  <thead>\n    <tr style=\"text-align: right;\">\n      <th></th>\n      <th>Show Number</th>\n      <th>Air Date</th>\n      <th>Round</th>\n      <th>Category</th>\n      <th>Value</th>\n      <th>Question</th>\n      <th>Answer</th>\n      <th>Value_int</th>\n    </tr>\n  </thead>\n  <tbody>\n    <tr>\n      <th>30116</th>\n      <td>4802</td>\n      <td>2005-06-21</td>\n      <td>Double Jeopardy!</td>\n      <td>VOLCANO, ISLAND OR PENINSULA</td>\n      <td>$1200</td>\n      <td>Hainan</td>\n      <td>island</td>\n      <td>1200.0</td>\n    </tr>\n    <tr>\n      <th>144460</th>\n      <td>3949</td>\n      <td>2001-11-01</td>\n      <td>Jeopardy!</td>\n      <td>THE NEAREST CONTINENT</td>\n      <td>$200</td>\n      <td>Hainan</td>\n      <td>Asia</td>\n      <td>200.0</td>\n    </tr>\n    <tr>\n      <th>162552</th>\n      <td>5765</td>\n      <td>2009-10-09</td>\n      <td>Jeopardy!</td>\n      <td>COUNTRIES' LARGEST ISLANDS</td>\n      <td>$800</td>\n      <td>Hainan</td>\n      <td>China</td>\n      <td>800.0</td>\n    </tr>\n    <tr>\n      <th>203881</th>\n      <td>5131</td>\n      <td>2006-12-25</td>\n      <td>Double Jeopardy!</td>\n      <td>IT'S OUR ISLAND</td>\n      <td>$400</td>\n      <td>Hainan</td>\n      <td>China</td>\n      <td>400.0</td>\n    </tr>\n  </tbody>\n</table>\n</div>"
     },
     "execution_count": 17,
     "metadata": {},
     "output_type": "execute_result"
    }
   ],
   "source": [
    "jeopardy[jeopardy['Question'] == 'Hainan']"
   ],
   "metadata": {
    "collapsed": false,
    "pycharm": {
     "name": "#%%\n"
    }
   }
  },
  {
   "cell_type": "code",
   "execution_count": 18,
   "outputs": [
    {
     "data": {
      "text/plain": "       Show Number    Air Date      Round          Category Value  \\\n15532         5468  2008-05-21  Jeopardy!  AROUND THE BIBLE  $800   \n65307         4106  2002-06-10  Jeopardy!  AROUND THE BIBLE  $800   \n\n                                                Question           Answer  \\\n15532  I Kings uses \"slept with his fathers\" as a eup...  death (or died)   \n65307  I Kings uses \"slept with his fathers\" as a eup...             died   \n\n       Value_int  \n15532      800.0  \n65307      800.0  ",
      "text/html": "<div>\n<style scoped>\n    .dataframe tbody tr th:only-of-type {\n        vertical-align: middle;\n    }\n\n    .dataframe tbody tr th {\n        vertical-align: top;\n    }\n\n    .dataframe thead th {\n        text-align: right;\n    }\n</style>\n<table border=\"1\" class=\"dataframe\">\n  <thead>\n    <tr style=\"text-align: right;\">\n      <th></th>\n      <th>Show Number</th>\n      <th>Air Date</th>\n      <th>Round</th>\n      <th>Category</th>\n      <th>Value</th>\n      <th>Question</th>\n      <th>Answer</th>\n      <th>Value_int</th>\n    </tr>\n  </thead>\n  <tbody>\n    <tr>\n      <th>15532</th>\n      <td>5468</td>\n      <td>2008-05-21</td>\n      <td>Jeopardy!</td>\n      <td>AROUND THE BIBLE</td>\n      <td>$800</td>\n      <td>I Kings uses \"slept with his fathers\" as a eup...</td>\n      <td>death (or died)</td>\n      <td>800.0</td>\n    </tr>\n    <tr>\n      <th>65307</th>\n      <td>4106</td>\n      <td>2002-06-10</td>\n      <td>Jeopardy!</td>\n      <td>AROUND THE BIBLE</td>\n      <td>$800</td>\n      <td>I Kings uses \"slept with his fathers\" as a eup...</td>\n      <td>died</td>\n      <td>800.0</td>\n    </tr>\n  </tbody>\n</table>\n</div>"
     },
     "execution_count": 18,
     "metadata": {},
     "output_type": "execute_result"
    }
   ],
   "source": [
    "df_with_king_mean_value[df_with_king_mean_value['Question'] == 'I Kings uses \"slept with his fathers\" as a euphemism for this']"
   ],
   "metadata": {
    "collapsed": false,
    "pycharm": {
     "name": "#%%\n"
    }
   }
  },
  {
   "cell_type": "code",
   "execution_count": 19,
   "outputs": [
    {
     "name": "stdout",
     "output_type": "stream",
     "text": [
      "{400.0: 301, 800.0: 224, 200.0: 210, 1000.0: 182, 600.0: 173, 2000.0: 103, 1600.0: 97, 1200.0: 78, 500.0: 66, 100.0: 54, 300.0: 50, 0.0: 31, 1500.0: 6, 1400.0: 4, 4000.0: 3, 3000.0: 3, 2500.0: 3, 900.0: 2, 5000.0: 2, 1100.0: 1, 8200.0: 1, 2200.0: 1, 3500.0: 1, 1900.0: 1, 700.0: 1, 9000.0: 1, 4700.0: 1, 2400.0: 1, 4200.0: 1, 7000.0: 1, 5200.0: 1}\n",
      "Total sum: 1240600.0\n",
      "Total count: 1604\n",
      "773.4413965087282\n"
     ]
    }
   ],
   "source": [
    "# now the result is correct\n",
    "def calculate_average_value_for_word_2(word):\n",
    "    total_sum = 0\n",
    "    total_count = 0\n",
    "\n",
    "    unique_elements = {}\n",
    "\n",
    "    list_questions = []\n",
    "\n",
    "    #for question in jeopardy['Question']:\n",
    "    for question, value in zip(jeopardy['Question'],jeopardy['Value_int']):\n",
    "        if word in question:\n",
    "            list_questions.append(question)\n",
    "\n",
    "            if value not in unique_elements.keys():\n",
    "                unique_elements[value] = 1\n",
    "            else:\n",
    "                unique_elements[value] += 1\n",
    "            total_sum += value\n",
    "            total_count += 1\n",
    "\n",
    "    unique_elements_sorted = dict(sorted(unique_elements.items(), key=lambda item: item[1], reverse=True))\n",
    "    print(unique_elements_sorted)\n",
    "\n",
    "    if total_count == 0:\n",
    "        return 0, list_questions\n",
    "    else:\n",
    "        print(\"Total sum: \" + str(total_sum))\n",
    "        print(\"Total count: \" + str(total_count))\n",
    "\n",
    "        return total_sum / total_count, list_questions\n",
    "\n",
    "mean, list_of_questions_with_king_manual_approach_2 =  calculate_average_value_for_word_2('King')\n",
    "print(mean)\n"
   ],
   "metadata": {
    "collapsed": false,
    "pycharm": {
     "name": "#%%\n"
    }
   }
  },
  {
   "cell_type": "code",
   "execution_count": 46,
   "outputs": [
    {
     "data": {
      "text/plain": "Category\nHOLLYWOOD SCANDALS             0.0\nTHE POST OFFICE                0.0\nTHE PRESIDENCY                 0.0\nTHE PRESIDENTIAL CABINET       0.0\nSCOTTISH INVENTORS             0.0\n                             ...  \n\"A\" IN MATH                 3640.0\nREMEMBERING TED KENNEDY     3640.0\n\"A\" SCIENCE CATEGORY        3900.0\nSTATE GEMS                  4000.0\nPLUS 8                      4160.0\nName: Value_int, Length: 27995, dtype: float64"
     },
     "execution_count": 46,
     "metadata": {},
     "output_type": "execute_result"
    }
   ],
   "source": [
    "jeopardy.groupby(['Category'])['Value_int'].mean().sort_values()"
   ],
   "metadata": {
    "collapsed": false,
    "pycharm": {
     "name": "#%%\n"
    }
   }
  },
  {
   "cell_type": "code",
   "execution_count": 47,
   "outputs": [
    {
     "data": {
      "text/plain": "        Show Number    Air Date            Round            Category Value  \\\n101210         5203  2007-04-04  Final Jeopardy!  HOLLYWOOD SCANDALS  None   \n\n                                                 Question       Answer  \\\n101210  Some claim the 1932 \"suicide\" of this star's h...  Jean Harlow   \n\n        Value_int  \n101210        0.0  ",
      "text/html": "<div>\n<style scoped>\n    .dataframe tbody tr th:only-of-type {\n        vertical-align: middle;\n    }\n\n    .dataframe tbody tr th {\n        vertical-align: top;\n    }\n\n    .dataframe thead th {\n        text-align: right;\n    }\n</style>\n<table border=\"1\" class=\"dataframe\">\n  <thead>\n    <tr style=\"text-align: right;\">\n      <th></th>\n      <th>Show Number</th>\n      <th>Air Date</th>\n      <th>Round</th>\n      <th>Category</th>\n      <th>Value</th>\n      <th>Question</th>\n      <th>Answer</th>\n      <th>Value_int</th>\n    </tr>\n  </thead>\n  <tbody>\n    <tr>\n      <th>101210</th>\n      <td>5203</td>\n      <td>2007-04-04</td>\n      <td>Final Jeopardy!</td>\n      <td>HOLLYWOOD SCANDALS</td>\n      <td>None</td>\n      <td>Some claim the 1932 \"suicide\" of this star's h...</td>\n      <td>Jean Harlow</td>\n      <td>0.0</td>\n    </tr>\n  </tbody>\n</table>\n</div>"
     },
     "execution_count": 47,
     "metadata": {},
     "output_type": "execute_result"
    }
   ],
   "source": [
    "jeopardy[jeopardy['Category'] == 'HOLLYWOOD SCANDALS']"
   ],
   "metadata": {
    "collapsed": false,
    "pycharm": {
     "name": "#%%\n"
    }
   }
  },
  {
   "cell_type": "code",
   "execution_count": 51,
   "outputs": [
    {
     "data": {
      "text/plain": "Category\nEUROPEAN LITERARY CLASSICS      1\nTRANSPORTATION INNOVATIONS      1\nPOPULAR BABY NAMES              1\nTRANSPORTATION HISTORY          1\nELVIS PRESLEY                   1\n                             ... \nPOTPOURRI                     401\nAMERICAN HISTORY              418\nLITERATURE                    496\nSCIENCE                       519\nBEFORE & AFTER                547\nName: Category, Length: 27995, dtype: int64"
     },
     "execution_count": 51,
     "metadata": {},
     "output_type": "execute_result"
    }
   ],
   "source": [
    "jeopardy.groupby(['Category']).Category.count().sort_values()"
   ],
   "metadata": {
    "collapsed": false,
    "pycharm": {
     "name": "#%%\n"
    }
   }
  },
  {
   "cell_type": "code",
   "execution_count": null,
   "outputs": [],
   "source": [],
   "metadata": {
    "collapsed": false,
    "pycharm": {
     "name": "#%%\n"
    }
   }
  }
 ],
 "metadata": {
  "kernelspec": {
   "display_name": "Python 3",
   "language": "python",
   "name": "python3"
  },
  "language_info": {
   "codemirror_mode": {
    "name": "ipython",
    "version": 2
   },
   "file_extension": ".py",
   "mimetype": "text/x-python",
   "name": "python",
   "nbconvert_exporter": "python",
   "pygments_lexer": "ipython2",
   "version": "2.7.6"
  }
 },
 "nbformat": 4,
 "nbformat_minor": 0
}